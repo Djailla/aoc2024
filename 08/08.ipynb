{
 "cells": [
  {
   "cell_type": "code",
   "execution_count": 70,
   "id": "4cf9e0b9-24fd-4c6f-80c5-449be102b961",
   "metadata": {},
   "outputs": [],
   "source": [
    "with open(\"input.txt\") as f:\n",
    "    data = f.read().splitlines()\n",
    "\n",
    "X_SIZE = len(data[0])\n",
    "Y_SIZE = len(data)\n",
    "\n",
    "def is_valid(pos):\n",
    "    x, y = pos\n",
    "    return (0 <= x < X_SIZE) and (0 <= y < Y_SIZE)"
   ]
  },
  {
   "cell_type": "code",
   "execution_count": 71,
   "id": "b1d882bd-f410-4d33-bd00-915c61c034b4",
   "metadata": {},
   "outputs": [],
   "source": [
    "def get_antinodes(point_a, point_b):\n",
    "    pa_x, pa_y = point_a\n",
    "    pb_x, pb_y = point_b\n",
    "\n",
    "    abs_x = abs(pa_x - pb_x)\n",
    "    abs_y = abs(pa_y - pb_y)\n",
    "\n",
    "    min_x = min(pa_x, pb_x)\n",
    "    min_y = min(pa_y, pb_y)\n",
    "    max_x = max(pa_x, pb_x)\n",
    "    max_y = max(pa_y, pb_y)\n",
    "    \n",
    "    top_antinode_y = min_y - abs_y\n",
    "    bot_antinode_y = max_y + abs_y\n",
    "\n",
    "    if pa_x < pb_x:\n",
    "        top_antinode_x = min_x - abs_x\n",
    "        bot_antinode_x = max_x + abs_x\n",
    "    else:\n",
    "        top_antinode_x = max_x + abs_x\n",
    "        bot_antinode_x = min_x - abs_x\n",
    "\n",
    "    top_antinode = (top_antinode_x, top_antinode_y)\n",
    "    bot_antinode = (bot_antinode_x, bot_antinode_y)\n",
    "    if is_valid(top_antinode):\n",
    "        yield top_antinode\n",
    "\n",
    "    if is_valid(bot_antinode):\n",
    "        yield bot_antinode\n",
    "    "
   ]
  },
  {
   "cell_type": "code",
   "execution_count": 72,
   "id": "b4df7648-41af-456e-b8e9-f4ac7f1c91f0",
   "metadata": {},
   "outputs": [],
   "source": [
    "from collections import defaultdict\n",
    "\n",
    "antenna_dict = defaultdict(list)\n",
    "\n",
    "for y_idx, line in enumerate(data):\n",
    "    for x_idx, ch in enumerate(line):\n",
    "        if ch != \".\":\n",
    "            antenna_dict[ch].append((x_idx, y_idx))"
   ]
  },
  {
   "cell_type": "code",
   "execution_count": 73,
   "id": "be6e47b7-f43c-4cc6-834e-b97f7edd2930",
   "metadata": {},
   "outputs": [
    {
     "data": {
      "text/plain": [
       "327"
      ]
     },
     "execution_count": 73,
     "metadata": {},
     "output_type": "execute_result"
    }
   ],
   "source": [
    "from itertools import combinations\n",
    "\n",
    "out = set()\n",
    "\n",
    "for k, points in antenna_dict.items():\n",
    "    combs = list()\n",
    "    for comb in combinations(points, 2):\n",
    "        for anti in get_antinodes(*comb):\n",
    "            out.add(anti)\n",
    "\n",
    "len(out)"
   ]
  },
  {
   "cell_type": "code",
   "execution_count": 74,
   "id": "f687d1cc-3bb4-48d8-b68d-0d5aa906a1c0",
   "metadata": {},
   "outputs": [],
   "source": [
    "def print_map(comb, antinodes=[]):\n",
    "    map = [[\".\" for _ in range(X_SIZE)] for _ in range(Y_SIZE)]\n",
    "    for c_x, c_y in comb:\n",
    "        map[c_y][c_x] = \"#\"\n",
    "\n",
    "    for c_x, c_y in antinodes:\n",
    "        map[c_y][c_x] = \"A\"\n",
    "\n",
    "    print(\"\\n\".join([\"\".join(l) for l in map]))"
   ]
  },
  {
   "cell_type": "code",
   "execution_count": 75,
   "id": "c5660908-4f0e-40d9-a94a-9eb100a99952",
   "metadata": {},
   "outputs": [],
   "source": [
    "def get_all_antinodes(point_a, point_b):\n",
    "    yield point_a\n",
    "    yield point_b\n",
    "    \n",
    "    pa_x, pa_y = point_a\n",
    "    pb_x, pb_y = point_b\n",
    "\n",
    "    abs_x = abs(pa_x - pb_x)\n",
    "    abs_y = abs(pa_y - pb_y)\n",
    "\n",
    "    min_x = min(pa_x, pb_x)\n",
    "    min_y = min(pa_y, pb_y)\n",
    "    max_x = max(pa_x, pb_x)\n",
    "    max_y = max(pa_y, pb_y)\n",
    "    \n",
    "    top_antinode_x = min_x - abs_x if (pa_x < pb_x) else max_x + abs_x\n",
    "    top_antinode_y = min_y - abs_y\n",
    "    top_antinode = (top_antinode_x, top_antinode_y)\n",
    "    while is_valid(top_antinode):\n",
    "        yield top_antinode\n",
    "        top_antinode = (\n",
    "            top_antinode[0] - abs_x if (pa_x < pb_x) else top_antinode[0] + abs_x,\n",
    "            top_antinode[1] - abs_y\n",
    "        )\n",
    "\n",
    "    bot_antinode_x = max_x + abs_x if (pa_x < pb_x) else min_x - abs_x\n",
    "    bot_antinode_y = max_y + abs_y\n",
    "    bot_antinode = (bot_antinode_x, bot_antinode_y)\n",
    "    while is_valid(bot_antinode):\n",
    "        yield bot_antinode\n",
    "        bot_antinode = (\n",
    "            bot_antinode[0] + abs_x if (pa_x < pb_x) else bot_antinode[0] - abs_x,\n",
    "            bot_antinode[1] + abs_y\n",
    "        )    "
   ]
  },
  {
   "cell_type": "code",
   "execution_count": 78,
   "id": "f1d59dcd-ef62-41e9-b521-5c851a92c457",
   "metadata": {},
   "outputs": [
    {
     "name": "stdout",
     "output_type": "stream",
     "text": [
      ".##..###.#.####....#...#......##.#...##..#.##....#\n",
      "#.###.#####.#.#.#.#...#####..#..#.#.#.###.##.....#\n",
      "..#...##.####.#.##..#.#...##.#.#....#######.#.#.##\n",
      "......#.#####..#.#..#.##.#.#####.#...##..#.#.#..#.\n",
      "#..#.###..#.####.#######.....##.#..#.##...#.#.##..\n",
      "....#..######.###....#.######.#....##..#....#.#.#.\n",
      ".####.#..#.#..#.####..#..######.#.###..#..##.####.\n",
      "#.#.##...#.###..##.#..#.#.#..#.####.##..###.##.#..\n",
      "###.#.#.#..#...#...#.#.#.#....#.##.##.##..##......\n",
      "#..###..#...##.#.##....###.##.#.#.#.###...##.#####\n",
      ".###.#.##..#...##.#.#.#####.#####.#.....##.....##.\n",
      "..##..##.###..##..#..##.####..###.#..####...#..##.\n",
      ".#.#.#####.#..###.#..#....#..###.....###.....###..\n",
      "...####...#.##.##..###.######..##..##.###..#.#...#\n",
      "#.##.##.#..###.....#...#####.##..##..#....###...##\n",
      "##....#..#.##.#.####..#.#.#...#..#.####...###.#.#.\n",
      ".#....##...#.#..###.######.#.##.##.#.#.#..#.#...##\n",
      "#..#.#..#.#...#.##..##..#..##.....##..##.##.....#.\n",
      "#.#......#.....#.###...#...##..#.####...####..###.\n",
      ".#.#..###.#...#.#.#####....#.##.#..#..##.#.##.###.\n",
      ".####......####....###..#..##..#.#..#.###..######.\n",
      "...#..##..###.#....###.##...#.#..##.##..#.#.#..#..\n",
      ".#.###...###.#.#..###.#..##..######.#...##.#.##..#\n",
      ".#.#.#.#####..##.##.#.#..####.##...####.....#..#.#\n",
      "....###.##..#..#######.#.#.###....###.#.#...######\n",
      "#...##..#.#######....#..#.##.....##...##...######.\n",
      "#.######.....#.#.#.#..####..##..#.#.#..###.##..##.\n",
      "##.#..##.....###..#.######...#########.#.###.....#\n",
      "#.#..#####.#.##..#.###.#..###.#....###....#.#.####\n",
      ".####....#..#.....#########.##.....##.###..#.#.##.\n",
      "#..#..#.#..#..###.#..##.##.##..#.#######.#.#.####.\n",
      ".##..######.#.##....#####..#..####.#.....#..#.#.#.\n",
      "##.##..#.#..####.#####.#.###.##.#.#.....#.####.#..\n",
      "#..#....###....#.####...##.###..#.#...##..#.#....#\n",
      "#..#...##.#.##..###.#.#.####.#.#......###.###.#...\n",
      "#.....#.#.#...#.##.#.#.#.#####.#.#........##....#.\n",
      ".#..##..##.##..#...####.#.##..#####...#..###....##\n",
      "..###....##.#.#..###.#.#.######....##...#...##...#\n",
      "#..#..#.#..###########..#....##.....##.#.####.....\n",
      ".##.###.....##.#..##.###....#.#.##...###.....#....\n",
      ".####......#.#.#.###.##...#....#..#.##..##.......#\n",
      "#.##....#.##....##..#.###.#####.##..##.#.###..#..#\n",
      "#........#.#.##.#.#.##....#...#..#.#.#######.##...\n",
      "##.#.####..##..###.....#...#..##.##.#..#.#...#.#..\n",
      "#..#.###....#.###.......#..#....#####.##......#.##\n",
      "#..#..#.....###...##.#..#.....####..##..#.#..#.##.\n",
      ".#...###...########...#..#...#.#.#...##.#........#\n",
      "....#......###.#..##.##....#..#.#.#...###....#.#.#\n",
      "..##...#.##.###.##...####..#.#..#...##.##.......#.\n",
      "..#....###.......##.#..#..#.##...#.#....##..#.#.#.\n"
     ]
    },
    {
     "data": {
      "text/plain": [
       "1233"
      ]
     },
     "execution_count": 78,
     "metadata": {},
     "output_type": "execute_result"
    }
   ],
   "source": [
    "from itertools import combinations\n",
    "\n",
    "out = set()\n",
    "\n",
    "for k, points in antenna_dict.items():\n",
    "    combs = list()\n",
    "    for comb in combinations(points, 2):\n",
    "        for anti in get_all_antinodes(*comb):\n",
    "            out.add(anti)\n",
    "\n",
    "print_map(out)\n",
    "len(out)"
   ]
  },
  {
   "cell_type": "code",
   "execution_count": null,
   "id": "6430f697-f16b-499d-8959-82bd520a7deb",
   "metadata": {},
   "outputs": [],
   "source": []
  },
  {
   "cell_type": "code",
   "execution_count": null,
   "id": "12d182bc-aee4-466e-8745-fe625f46f03a",
   "metadata": {},
   "outputs": [],
   "source": []
  }
 ],
 "metadata": {
  "kernelspec": {
   "display_name": "Python 3 (ipykernel)",
   "language": "python",
   "name": "python3"
  },
  "language_info": {
   "codemirror_mode": {
    "name": "ipython",
    "version": 3
   },
   "file_extension": ".py",
   "mimetype": "text/x-python",
   "name": "python",
   "nbconvert_exporter": "python",
   "pygments_lexer": "ipython3",
   "version": "3.9.20"
  }
 },
 "nbformat": 4,
 "nbformat_minor": 5
}

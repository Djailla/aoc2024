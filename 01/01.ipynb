{
 "cells": [
  {
   "cell_type": "code",
   "execution_count": 27,
   "id": "885fe6ba-8c18-4542-b413-28b8611669a4",
   "metadata": {},
   "outputs": [],
   "source": [
    "with open(\"input.txt\") as f:\n",
    "    data = f.read().splitlines()"
   ]
  },
  {
   "cell_type": "code",
   "execution_count": 28,
   "id": "7375ba82-f552-4e4a-9bbc-88c8918ae35c",
   "metadata": {},
   "outputs": [],
   "source": [
    "l1 = []\n",
    "l2 = []\n",
    "\n",
    "for l in data:\n",
    "    a, b = l.split()\n",
    "    l1.append(int(a))\n",
    "    l2.append(int(b))"
   ]
  },
  {
   "cell_type": "code",
   "execution_count": 29,
   "id": "0110d192-c9f5-4817-94fb-cb214ab579e9",
   "metadata": {},
   "outputs": [],
   "source": [
    "l1 = sorted(l1)\n",
    "l2 = sorted(l2)"
   ]
  },
  {
   "cell_type": "code",
   "execution_count": 30,
   "id": "da6bbb47-39e0-432c-aded-fd1d99b8b96d",
   "metadata": {},
   "outputs": [
    {
     "name": "stdout",
     "output_type": "stream",
     "text": [
      "2742123\n"
     ]
    }
   ],
   "source": [
    "first_star = sum(abs(m1 - m2) for m1, m2 in zip(l1, l2))\n",
    "print(first_star)"
   ]
  },
  {
   "cell_type": "code",
   "execution_count": 31,
   "id": "f7417073-c9a2-4fb3-b349-3c250f887ac7",
   "metadata": {},
   "outputs": [],
   "source": [
    "from collections import Counter\n",
    "\n",
    "right_counter = Counter(l2)"
   ]
  },
  {
   "cell_type": "code",
   "execution_count": 32,
   "id": "88de166e-1b5c-48dd-b03b-883b7a548d9b",
   "metadata": {},
   "outputs": [
    {
     "name": "stdout",
     "output_type": "stream",
     "text": [
      "21328497\n"
     ]
    }
   ],
   "source": [
    "second_star = sum(m * right_counter[m] for m in l1)\n",
    "print(second_star)"
   ]
  },
  {
   "cell_type": "code",
   "execution_count": null,
   "id": "f5c01161-b7fe-47c8-a747-e003510c342c",
   "metadata": {},
   "outputs": [],
   "source": []
  }
 ],
 "metadata": {
  "kernelspec": {
   "display_name": "Python 3 (ipykernel)",
   "language": "python",
   "name": "python3"
  },
  "language_info": {
   "codemirror_mode": {
    "name": "ipython",
    "version": 3
   },
   "file_extension": ".py",
   "mimetype": "text/x-python",
   "name": "python",
   "nbconvert_exporter": "python",
   "pygments_lexer": "ipython3",
   "version": "3.9.20"
  }
 },
 "nbformat": 4,
 "nbformat_minor": 5
}

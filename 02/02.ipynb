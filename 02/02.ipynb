{
 "cells": [
  {
   "cell_type": "code",
   "execution_count": null,
   "id": "bab77e9a-9136-4463-be31-f72b4aa9c3c6",
   "metadata": {},
   "outputs": [],
   "source": [
    "with open(\"input.txt\") as f:\n",
    "    data = f.read().splitlines()"
   ]
  },
  {
   "cell_type": "code",
   "execution_count": null,
   "id": "da2e11bf-5f48-485e-abf2-45108a35fc5f",
   "metadata": {},
   "outputs": [],
   "source": [
    "paths = [[int(a) for a in elems.split()] for elems in data]"
   ]
  },
  {
   "cell_type": "code",
   "execution_count": null,
   "id": "c7384f23-d26f-45fe-adb5-bb78f631487d",
   "metadata": {},
   "outputs": [],
   "source": [
    "def check_safe(l):\n",
    "    is_reversed = l[0] > l[1]\n",
    "    for i in range(1, len(l)):\n",
    "        l0 = l[i-1]\n",
    "        l1 = l[i]\n",
    "        print(l0, l1, is_reversed, l0 - l1)\n",
    "        if is_reversed:\n",
    "            if l0 <= l1 or (l0 - l1) > 3:\n",
    "                return False\n",
    "        else:\n",
    "            if l0 >= l1 or (l1 - l0) > 3:\n",
    "                return False\n",
    "    return True\n",
    "        \n",
    "\n",
    "sum(1 if check_safe(l) else 0 for l in paths)"
   ]
  }
 ],
 "metadata": {
  "kernelspec": {
   "display_name": "Python 3 (ipykernel)",
   "language": "python",
   "name": "python3"
  },
  "language_info": {
   "codemirror_mode": {
    "name": "ipython",
    "version": 3
   },
   "file_extension": ".py",
   "mimetype": "text/x-python",
   "name": "python",
   "nbconvert_exporter": "python",
   "pygments_lexer": "ipython3",
   "version": "3.9.20"
  }
 },
 "nbformat": 4,
 "nbformat_minor": 5
}

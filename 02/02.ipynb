{
 "cells": [
  {
   "cell_type": "code",
   "execution_count": 29,
   "id": "bab77e9a-9136-4463-be31-f72b4aa9c3c6",
   "metadata": {},
   "outputs": [],
   "source": [
    "with open(\"input.txt\") as f:\n",
    "    data = f.read().splitlines()"
   ]
  },
  {
   "cell_type": "code",
   "execution_count": 30,
   "id": "da2e11bf-5f48-485e-abf2-45108a35fc5f",
   "metadata": {},
   "outputs": [],
   "source": [
    "paths = [[int(a) for a in elems.split()] for elems in data]"
   ]
  },
  {
   "cell_type": "code",
   "execution_count": 31,
   "id": "4c4a5b14-b5df-45a6-babf-4e710e4e3871",
   "metadata": {},
   "outputs": [
    {
     "data": {
      "text/plain": [
       "314"
      ]
     },
     "execution_count": 31,
     "metadata": {},
     "output_type": "execute_result"
    }
   ],
   "source": [
    "def check_safe(l):\n",
    "    is_reversed = l[0] > l[1]\n",
    "    for i in range(1, len(l)):\n",
    "        l0 = l[i-1]\n",
    "        l1 = l[i]\n",
    "        if is_reversed:\n",
    "            if l0 <= l1 or (l0 - l1) > 3:\n",
    "                return False\n",
    "        else:\n",
    "            if l0 >= l1 or (l1 - l0) > 3:\n",
    "                return False\n",
    "    return True\n",
    "        \n",
    "\n",
    "sum(1 if check_safe(l) else 0 for l in paths)"
   ]
  },
  {
   "cell_type": "code",
   "execution_count": 35,
   "id": "20f37853-7981-463d-99e8-676d36476cde",
   "metadata": {},
   "outputs": [
    {
     "data": {
      "text/plain": [
       "373"
      ]
     },
     "execution_count": 35,
     "metadata": {},
     "output_type": "execute_result"
    }
   ],
   "source": [
    "tot = 0\n",
    "\n",
    "for l in paths:\n",
    "    sub_lists = [l]\n",
    "    \n",
    "    for x in range(len(l)):\n",
    "        sub_l = l.copy()\n",
    "        sub_l.pop(x)\n",
    "        sub_lists.append(sub_l)\n",
    "    \n",
    "    sub_lists\n",
    "    \n",
    "    if any(check_safe(l) for l in sub_lists):\n",
    "        tot += 1\n",
    "\n",
    "tot"
   ]
  }
 ],
 "metadata": {
  "kernelspec": {
   "display_name": "Python 3 (ipykernel)",
   "language": "python",
   "name": "python3"
  },
  "language_info": {
   "codemirror_mode": {
    "name": "ipython",
    "version": 3
   },
   "file_extension": ".py",
   "mimetype": "text/x-python",
   "name": "python",
   "nbconvert_exporter": "python",
   "pygments_lexer": "ipython3",
   "version": "3.11.10"
  }
 },
 "nbformat": 4,
 "nbformat_minor": 5
}

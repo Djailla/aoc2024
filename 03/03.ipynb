{
 "cells": [
  {
   "cell_type": "code",
   "execution_count": 55,
   "id": "56f80e9e-e03a-41f6-9bfa-a5ac18d858a8",
   "metadata": {},
   "outputs": [],
   "source": [
    "with open(\"input.txt\") as f:\n",
    "    data = f.read().splitlines()"
   ]
  },
  {
   "cell_type": "code",
   "execution_count": 56,
   "id": "48b6b525-140e-46ac-a6d4-3576cec830bb",
   "metadata": {},
   "outputs": [],
   "source": [
    "data_full = \"\".join(data)"
   ]
  },
  {
   "cell_type": "code",
   "execution_count": 57,
   "id": "f6181852-3e28-4ac8-9e23-2a5e55b433d5",
   "metadata": {},
   "outputs": [],
   "source": [
    "import re\n",
    "\n",
    "matches = re.findall(r\"mul\\(([0-9]{1,3}),([0-9]{1,3})\\)\", data_full)"
   ]
  },
  {
   "cell_type": "code",
   "execution_count": 58,
   "id": "718bc3d2-ea2d-4675-a809-54977d8536cf",
   "metadata": {},
   "outputs": [
    {
     "data": {
      "text/plain": [
       "190604937"
      ]
     },
     "execution_count": 58,
     "metadata": {},
     "output_type": "execute_result"
    }
   ],
   "source": [
    "sum((int(a) * int(b) for a, b in matches)) "
   ]
  },
  {
   "cell_type": "code",
   "execution_count": 59,
   "id": "7483c8ef-1aad-4449-b2b8-d7b063e7f4d4",
   "metadata": {},
   "outputs": [],
   "source": [
    "import re\n",
    "\n",
    "matches = re.findall(r\"mul\\(([0-9]{1,3}),([0-9]{1,3})\\)|(do\\(\\))|(don't\\(\\))\", data_full)"
   ]
  },
  {
   "cell_type": "code",
   "execution_count": 60,
   "id": "315cf553-e40d-4f85-a0e9-3462583d06c0",
   "metadata": {},
   "outputs": [
    {
     "data": {
      "text/plain": [
       "82857512"
      ]
     },
     "execution_count": 60,
     "metadata": {},
     "output_type": "execute_result"
    }
   ],
   "source": [
    "is_active = True\n",
    "tot = 0\n",
    "\n",
    "while matches:\n",
    "    match = matches.pop(0)   \n",
    "    if \"don't()\" in match:\n",
    "        is_active = False\n",
    "        continue\n",
    "    if \"do()\" in match:\n",
    "        is_active = True\n",
    "        continue\n",
    "\n",
    "    if is_active:\n",
    "        tot += int(match[0]) * int(match[1])\n",
    "\n",
    "tot"
   ]
  },
  {
   "cell_type": "code",
   "execution_count": null,
   "id": "e3f737b6-0ee9-4d3a-b5f7-bfcbf0a41336",
   "metadata": {},
   "outputs": [],
   "source": []
  }
 ],
 "metadata": {
  "kernelspec": {
   "display_name": "Python 3 (ipykernel)",
   "language": "python",
   "name": "python3"
  },
  "language_info": {
   "codemirror_mode": {
    "name": "ipython",
    "version": 3
   },
   "file_extension": ".py",
   "mimetype": "text/x-python",
   "name": "python",
   "nbconvert_exporter": "python",
   "pygments_lexer": "ipython3",
   "version": "3.11.10"
  }
 },
 "nbformat": 4,
 "nbformat_minor": 5
}

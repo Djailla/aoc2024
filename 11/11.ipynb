{
 "cells": [
  {
   "cell_type": "code",
   "execution_count": 1,
   "id": "178ceddf-d9aa-4f71-8deb-2d907d74d22d",
   "metadata": {},
   "outputs": [],
   "source": [
    "with open(\"input.txt\") as f:\n",
    "    data = f.read().splitlines()"
   ]
  },
  {
   "cell_type": "code",
   "execution_count": 2,
   "id": "34846128-b647-4c81-a543-b8edbc7a4a56",
   "metadata": {},
   "outputs": [
    {
     "name": "stdout",
     "output_type": "stream",
     "text": [
      "0 . 1 . 2 . 3 . 4 . 5 . 6 . 7 . 8 . 9 . 10 . 11 . 12 . 13 . 14 . 15 . 16 . 17 . 18 . 19 . 20 . 21 . 22 . 23 . 24 . 213625\n"
     ]
    }
   ],
   "source": [
    "def blink(line):\n",
    "    for x in line:\n",
    "        if x == 0:\n",
    "            yield 1\n",
    "            continue\n",
    "\n",
    "        x_str = str(x)\n",
    "        len_x_str = len(x_str)\n",
    "        if len_x_str % 2 == 0:\n",
    "            str_len = len_x_str // 2\n",
    "            yield int(x_str[0:str_len])\n",
    "            yield int(x_str[str_len:])\n",
    "            continue\n",
    "\n",
    "        yield x * 2024\n",
    "\n",
    "line = [int(x) for x in data[0].split()]\n",
    "for x in range(25):\n",
    "#    print(\"Line is:\", \" \".join([str(x) for x in line]))\n",
    "    print(x, end=\" . \")\n",
    "    line = list(blink(line))\n",
    "\n",
    "print(len(line))"
   ]
  },
  {
   "cell_type": "code",
   "execution_count": 3,
   "id": "7ce9fef1-bad6-4e86-9eca-1891a97e7b45",
   "metadata": {},
   "outputs": [],
   "source": [
    "from functools import cache\n",
    "import itertools\n",
    "import time\n",
    "\n",
    "@cache\n",
    "def blink(elem):\n",
    "    if elem == 0:\n",
    "        return [1]\n",
    "\n",
    "    elem_str = str(elem)\n",
    "    len_elem_str = len(elem_str)\n",
    "    if len_elem_str % 2 == 0:\n",
    "        str_len = len_elem_str // 2\n",
    "        return [int(elem_str[0:str_len]), int(elem_str[str_len:])]\n",
    "    else:\n",
    "        return [elem * 2024]\n",
    "\n",
    "@cache\n",
    "def blink_mul(elem, count):\n",
    "    if count == 0:\n",
    "        return 1\n",
    "    else:\n",
    "        line = blink(elem)\n",
    "        return sum(blink_mul(el, count - 1) for el in line)"
   ]
  },
  {
   "cell_type": "code",
   "execution_count": 4,
   "id": "0ed5b041-7957-411a-b67e-75d597eb3993",
   "metadata": {},
   "outputs": [
    {
     "name": "stdout",
     "output_type": "stream",
     "text": [
      "252442982856820\n",
      "CPU times: user 120 ms, sys: 7.96 ms, total: 128 ms\n",
      "Wall time: 127 ms\n"
     ]
    }
   ],
   "source": [
    "%%time\n",
    "line = [int(x) for x in data[0].split()]\n",
    "tot = sum(blink_mul(el, 75) for el in line)\n",
    "\n",
    "print(tot)"
   ]
  }
 ],
 "metadata": {
  "kernelspec": {
   "display_name": "Python 3 (ipykernel)",
   "language": "python",
   "name": "python3"
  },
  "language_info": {
   "codemirror_mode": {
    "name": "ipython",
    "version": 3
   },
   "file_extension": ".py",
   "mimetype": "text/x-python",
   "name": "python",
   "nbconvert_exporter": "python",
   "pygments_lexer": "ipython3",
   "version": "3.11.10"
  }
 },
 "nbformat": 4,
 "nbformat_minor": 5
}

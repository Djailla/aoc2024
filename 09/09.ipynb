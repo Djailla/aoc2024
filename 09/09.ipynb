{
 "cells": [
  {
   "cell_type": "code",
   "execution_count": null,
   "id": "26906a11-5552-480b-9fbe-74fdf2187c84",
   "metadata": {},
   "outputs": [],
   "source": [
    "with open(\"input.txt\") as f:\n",
    "    data = f.read().splitlines()\n",
    "\n"
   ]
  },
  {
   "cell_type": "code",
   "execution_count": null,
   "id": "449c2c64-eea2-4668-bdb4-7052f2744dd3",
   "metadata": {},
   "outputs": [],
   "source": [
    "line = []\n",
    "\n",
    "is_number = True\n",
    "acc = 0\n",
    "\n",
    "for c in data[0]:\n",
    "    c_int = int(c)\n",
    "    if is_number:\n",
    "        line += [acc for _ in range(c_int)]\n",
    "        acc += 1\n",
    "    else:\n",
    "        line += [None for _ in range(c_int)]\n",
    "\n",
    "    is_number = not is_number"
   ]
  },
  {
   "cell_type": "code",
   "execution_count": null,
   "id": "19bd06c5-d29d-42ce-a244-e7e7b16c6206",
   "metadata": {},
   "outputs": [],
   "source": [
    "while None in line:\n",
    "    last_value = line.pop()\n",
    "    line[line.index(None)] = last_value\n",
    "\n",
    "    while line[-1] == None:\n",
    "        line.pop(-1)"
   ]
  },
  {
   "cell_type": "code",
   "execution_count": 27,
   "id": "2fa3105c-ae38-44cd-8a14-f34b55034fb4",
   "metadata": {},
   "outputs": [
    {
     "data": {
      "text/plain": [
       "6288599492129"
      ]
     },
     "execution_count": 27,
     "metadata": {},
     "output_type": "execute_result"
    }
   ],
   "source": [
    "sum(c * i for i, c in enumerate(line))"
   ]
  },
  {
   "cell_type": "code",
   "execution_count": null,
   "id": "46172e54-4e22-4bb3-a5ea-4cad7c4b55a2",
   "metadata": {},
   "outputs": [],
   "source": [
    "\"\".join([str(l) for l in line])"
   ]
  },
  {
   "cell_type": "code",
   "execution_count": null,
   "id": "a8e1e764-c1f9-4022-8401-354d8e675892",
   "metadata": {},
   "outputs": [],
   "source": []
  }
 ],
 "metadata": {
  "kernelspec": {
   "display_name": "Python 3 (ipykernel)",
   "language": "python",
   "name": "python3"
  },
  "language_info": {
   "codemirror_mode": {
    "name": "ipython",
    "version": 3
   },
   "file_extension": ".py",
   "mimetype": "text/x-python",
   "name": "python",
   "nbconvert_exporter": "python",
   "pygments_lexer": "ipython3",
   "version": "3.9.20"
  }
 },
 "nbformat": 4,
 "nbformat_minor": 5
}

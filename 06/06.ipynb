{
 "cells": [
  {
   "cell_type": "code",
   "execution_count": 169,
   "id": "28a702cf-3e8b-42cd-a6fe-c2c06ac89e8e",
   "metadata": {},
   "outputs": [],
   "source": [
    "with open(\"input.txt\") as f:\n",
    "    data = f.read().splitlines()\n",
    "\n",
    "data = [[e for e in l] for l in data]"
   ]
  },
  {
   "cell_type": "code",
   "execution_count": 170,
   "id": "f63cf6f0-345e-40be-b3fb-5c208a356c40",
   "metadata": {},
   "outputs": [],
   "source": [
    "X_WIDTH = len(data[0])\n",
    "Y_WIDTH = len(data)\n",
    "\n",
    "def is_valid(pos):\n",
    "    x, y = pos\n",
    "    return (0 <= x < X_WIDTH) and (0 <= y < Y_WIDTH)\n"
   ]
  },
  {
   "cell_type": "code",
   "execution_count": 171,
   "id": "177cf854-9505-4ed8-9cf0-7c62543b5caa",
   "metadata": {},
   "outputs": [],
   "source": [
    "import itertools \n",
    "  \n",
    "l = [(0, -1), (1, 0), (0, 1), (-1, 0)] "
   ]
  },
  {
   "cell_type": "code",
   "execution_count": 172,
   "id": "154065b1-deea-4da1-8d54-10ebdb78d379",
   "metadata": {},
   "outputs": [],
   "source": [
    "def bump(pos, direction):\n",
    "    x, y = pos\n",
    "    _x, _y = direction\n",
    "    # print(data[y + _y][x + _x])\n",
    "    \n",
    "    if not is_valid((x + _x, y + _y)):\n",
    "        return False\n",
    "\n",
    "    if data[y + _y][x + _x] == \"#\":\n",
    "        return True\n",
    "    else:\n",
    "        return False"
   ]
  },
  {
   "cell_type": "code",
   "execution_count": 173,
   "id": "a9bcbdd9-e15c-4ce0-a5d3-740b191d6305",
   "metadata": {},
   "outputs": [],
   "source": [
    "for y_idx, line in enumerate(data):\n",
    "    if \"^\" in line:\n",
    "        x_idx = line.index(\"^\")\n",
    "        break\n",
    "\n",
    "def next_pos(pos, direction):\n",
    "    pos_x, pos_y = pos\n",
    "    dir_x, dir_y = direction\n",
    "    return pos_x + dir_x, pos_y + dir_y\n",
    "    "
   ]
  },
  {
   "cell_type": "code",
   "execution_count": 174,
   "id": "24e107ea-2eca-42a9-ab5b-d16ddee1d12e",
   "metadata": {},
   "outputs": [
    {
     "data": {
      "text/plain": [
       "(45, 47)"
      ]
     },
     "execution_count": 174,
     "metadata": {},
     "output_type": "execute_result"
    }
   ],
   "source": [
    "y_idx, x_idx"
   ]
  },
  {
   "cell_type": "code",
   "execution_count": 175,
   "id": "22656b65-e0f3-438b-9e67-8e1bffd9c60c",
   "metadata": {},
   "outputs": [],
   "source": [
    "directions = itertools.cycle(l)\n",
    "\n",
    "path = [(x_idx, y_idx)]\n",
    "direction = next(directions)\n",
    "cur_pos = (x_idx, y_idx)\n",
    "\n",
    "while is_valid(cur_pos):\n",
    "    path.append(cur_pos)\n",
    "    while bump(cur_pos, direction):\n",
    "        direction = next(directions) \n",
    "    cur_pos = next_pos(cur_pos, direction)"
   ]
  },
  {
   "cell_type": "code",
   "execution_count": 176,
   "id": "8b2a2beb-fc59-40b1-afa2-bd3422ba147f",
   "metadata": {},
   "outputs": [
    {
     "name": "stdout",
     "output_type": "stream",
     "text": [
      "....................................#............##........#..#.#..#........X#.............#..............#.......................\n",
      "..................##.........#....................##.....#.......#.XXXXXXXXXXXXXXXXXXXXXXXXXXXXXXXXXXXXXX#..........#.............\n",
      ".......#...........#..............................XXXXXXXXXXXXXXXXXXXXXXXXXXXXXXXXXXXXXXXXXXXXXXXXXXXXXXXXXXX#.#.#................\n",
      ".#..........#...............................#.....X................X........X....#...#.....#...#.#......X...X.........#....#......\n",
      "..........#.......................................X..#............#X........X...............#..#......#.X..#X.#..........#........\n",
      "..................................................X..XXXXXXXXXXXXXXXXXXXXX#.X..................XXXXXXXXXXXXXXXXXXXXXX#.........#..\n",
      ".....#....#...........................#......#....X..X..#..........X.....X..X....#..........#..X........X.#.X.......X.#..........#\n",
      "................#.......................#.........X.#X.............X.....X..X.....#.....#..#...X........X.XXXXXXXXXXXXXXXXXXXX#...\n",
      "................XXXXXXXXXXXXXXXXXXXXXXXXXXXXXXXXXXXXXXXXXXXXXXXXXXXXXXXX#X.#XXXXXXXXXXXXXXXXXXXXXXXXXXXXX.X.X......#X........X....\n",
      "........#.......X..............#.....#.......#....X..X.....#....#..X...X.X#....#...............X........#.X.X.......X.#......X....\n",
      ".............#..X.#.......#........#..#.......##..X..X..........#..X...X.X.....XXXXXXXXXXXXXXXXXXXXXXXXX#.X.X.......X........X....\n",
      "......#.........X....#.#...#...............#......X..X.............X.#.X.X.#...X........#..#...X.....#.X..X.X.......X#.......X....\n",
      "................X.#...#....XXXXXXXXXXXXXXXXXXXXXXXXXXXXXXXXXXXXXXXXXX#.X.X.XXXXXXXXXXX#.......#XXXXXXXXXXXXXX..#....X........X....\n",
      "....#...#.......X.....#....X...................#..X..X.............XX..X.X.X...X....#X.....#...........X..X.#......#X........X....\n",
      "................X..........X...................XXXXXXXXXXXXXXXXXXXXXXXXXXXXXXXXXXXXXXXXXXX#...#........X##XXXXXXXXXXX........X....\n",
      ".............#.#X..........X...#.....#.#......#X..X..X.............XX..X.X.X#..X.....X...X.............X............#.....#..X....\n",
      "................X..........X...................X.#X..X.............XX..X.X.XXXXXXXXXXXXXXXXXXXXXXXXXXXXXXXXXXXXXXX#..........X....\n",
      "........#.#.....X..........X.....#......#......X.#XXXXXXXXXXXXXXXXXXXXXXXXXXXXXXXXXXXXXXXXXXXXXXXXXXXXXX.#.......X...........X....\n",
      "....#........#..X...#......X............XXXXXXXXXXXXXXXXXXXXXXXXXXXXXXXXXXXXXXXXXXXXXXXXXXXXXXXXXXXXXXX#.XXXXXXXXXXX#........X....\n",
      "...........#....X....#.....X.#..........X....#.X.....X.............XX.#X.X.XX..X.....X...X............X..X.......X.X.........X.#.#\n",
      "................X.......##.X............X...#..X.....X.............XX#.X.X.XX..X.....X...X............X..X......#X.X.........X#...\n",
      "..........#.....X..#.......X#.........#.X......X.....X...#.....#...XX..X.X.XX..X.....X...X....#..#....X..X......#X.X.........X....\n",
      "#...............X..XXXXXXXXXXXXXXXXXXXXXXXXXXXXXXXXXXXXXXXXXXXX#..#XXXXXXXXXXXXXXXXXXX...X.....#......X..X#......X.X.........X....\n",
      "................X..X.......X............X......X.....X........X..#..X..X.X.XX..X.#...#.#.X.......#.#..X..X.......X.X.#.......X...#\n",
      "................X..X.......X.........#..X......X.....X.....#..X.....X..X.X.XX..X.#.......X#....#....#.X..X.......X.X.........X....\n",
      "#..#............X..X#.....#XXXXXXXXXXXXXXXXXXXXXXXXXXXXXXXXXXXX##...X..X.X.XX#.X.........X...#...#....X..X..#....X.X.........X....\n",
      "................X#.X...#................X....#.X.....X........#.....X..X.X#XXXXXXXXXXXXXXXXXXXXXXXXXXXXXXXXXXXXXXXXXXXXXXXXXXX#...\n",
      "................X..X..............#.....X..#.XXXXXXXXXXXXXXXX#....#.X..X.X..X..X.....#...X............X..X.......X.X.........#....\n",
      "..#....#........X..X................#...X....X.X.....X......X.....XXXXXXXXXXXXXXXXXXX##..X............X..X.......X.X............#.\n",
      "...............#XXXXXXXXXXXXXXXXXXXXXXXXXXXXXXXXXXXXXXXXXXXXX.....X.X.#X.X..X##X....X....X............X..X.......X.X..............\n",
      "...................X.....#..............X....X.X.....X......#.....X.X..X.X..X##X#..#X#...X............X#.X.....#.X.X..............\n",
      ".................#.X....................X....X.X.....X..#...#.....X.X..X.X..X..X....X....X............X..X.......X.X..............\n",
      ".........#.........X....................X....X.X.....X......XXXXXXXXXXXXXXXXXXXXXXXXXXXXXXXXXXXXXXXX#.X..X..#....X.X..............\n",
      "....##..#.........#X.............#..#...X....X.X.#...X......X.#...X.X..X.X..X..X....X....X........#X..X..X.......X.X..............\n",
      "......#............X....................X....X#X.....X......X.XXXXXXXXXXXXXXXXXXXXXXXXXXXXXXXXXXXXXXXXXXXXXXXXX#.X.X..............\n",
      "....#..............X...#................X....X.X....#XXXXXXXXXXXXXXXXXXXXXXXXXXXXXXXXXXXXXXXXXXXXXXXXXXXXXXXXXXXXXXX.#............\n",
      "...................X...........##.#.....X....X.X.#....#.....X.X...X#X..X.X..X..X....X....X.........X..X..X...#X..X.#..............\n",
      "........#........#.X..#.........XXXXXXXXXXXXXXXXXXXXXXXXXXXXXXXXXXXXXXXXXXXXXXXXXXXXXXXX#X....#....X..X..X....X..X#...............\n",
      "#...........#..#...X..XXXXXXXXXXXXXXXXXXXXXXXXXXXXXXXXXXX#..X.X...X.X..X.X..X..X....X..X.X.........X..X..X..#.X##X......#.....#..#\n",
      "................#..X..X#........X..##...X....X.X........X...X.X...X.X..X.X..X..X....X..X.X.....#...X#.X..X....X..X................\n",
      "..........#........X.#X.........X...XXXXXXXXXXXXXXXXXXXXXXXXXXXXXXXXXXXXXXXXXXXXXXX#X..X.X........#X..X..X....X..X..#..........#..\n",
      "#.................#XXXXXXXXXXXXXXXXXXXXXXXXXXXXXXXXXXXXXXXXXXXXXXXXXXXXXXXXXXXXXXXXXXXXX.X.........X..X#.X#...X..X.......#........\n",
      ".....#..............#.X.........X...X...X....X#X....#...X...X.X.#.X.X..X.X..X..X..X.X..#.X.........X..X..X....X..X................\n",
      ".....##...............X.....#...X...X...X....X.X........X...X.X.XXXXXXXXXXXXXXXXXXXXXXXXXXXX#......X..X..X....X..X................\n",
      "...................#..X.....XXXXXXXXXXXXXXXXXXXXXXXXXXXXXXXXXXXXXXXXXXXXXXXXXXXXXXXXXXXXXXXXXXXXXXXXX#X..X....X..X.........#..#...\n",
      "......................X.....X...X...X...X....X.X........X...X.X.X.X.X.#X.X..X..X..X.X....X.X......#XX.X..X....X..X................\n",
      ".......#..............X#....X...X#..X...X..#.X....#.....X...X.X.X.X.X.XXXXXXXXXXXXXXXXXXXXXXXXXXXXXXXXXXXXXXXXXXXXXXXXXXXX#.......\n",
      "........#.........#..#X.##..X...X...X...X....X..........X..#X.X.X#X.X.XX.X..X..X#.X.X....X.X#..#...XX.X.#X....X..X.......X........\n",
      "......................X.....X...X...X...X....X..........X...X.X.X.X.X.XX.X..X.#X..X.X#.#.X.X.......XX.X#.X#..#X..X.#....#X........\n",
      "............#...#.....X.##..X...X...X.#.X..#.X..........X...X.X.X.X.X.XX.X..X..X..X.X..XXXXXXXXXXXXXXXXXXXXXXXXXXXXXXXX#.X........\n",
      "......................X.....X...X.##X...X...#X....##....X..#XXXXXXXXXXXXXXXXXXXXXXXXXXXXXXXXXXXXXXXXXXX..X....X..X....X..X........\n",
      "......................X#....X...X...X...X....X..........X.....X.X.X#X.XX.X..X..X..X.X..X.X.X.......XX.#..X#...X..X..#.X..X........\n",
      "............#.........X.....X...X...X...X....X..........X.....X.X.X#X.XX#X..X..X..X#X..X.X.X.......XX..#.X....X..X....X..X......#.\n",
      "......................X.....X...X...X...X....X......#...X.....X.X.X.X.XX.X.#X..X..X.X..X.X.X.......XX.#..X.#..X..X....X..X........\n",
      "..................#.##X.....X...X...X...X....X..........X.#...X.X.X.X.XX.X..X..X..X.X..X.X.X.#.....XX....X....X#.X..#.X.#X........\n",
      "........#...........XXXXXXXXXXXXXXXXXXXXXXXXXXXXXXXXXXXXXXXXXXXXXXXXXXXXXXXXXXXXXXXXXXXXXXXXXX#...#XX....X....X..X....X..X........\n",
      "....................X.X.....X...X...X...X....X......#...X.....X.X.X.X.XX.X..X..X..X.X..X.X.X.X.#...XX...#X.#.#X..X....X..X.....#..\n",
      "....#...........#..#X.X...#.X...X...X...X....X......#...X.....X.X.X.X.XX.X#.X..X..X.X..X.X.X.X.....XX..#.X...#X#.X....X..X....#...\n",
      "....................X.X.....X#..X...X#..X....X..#.......X.....X.X.X.X.XX.XXXXXXXXXXXXXXXXXXXXXXXXXXXXXXXXXXXXXXXXXX#..X.#X....#...\n",
      ".....#.#............X.X.#...X...X...X...X...#XXXXXXXXXXXXXXXXXXXXXXXXXXXXXXXXXXXXXX.X..X.X.X#X.....XX....X....X..XX...X..X........\n",
      "....#...............X.X.....X...X...X...X....#......#...X.....X.X.X.X.XX.XX.X..X..#.X..X.X.X.X.....XX....X....X..XX...X..X........\n",
      ".......#..........#.X.X.....X...X...X...X..#............X.....X.X.X.X.XX.XX.X..X.#..X..X.X.X.X..#..XX..#.X.##.X..XX...X..X........\n",
      ".....#..#...........X.X.....X...X...X.##XXXXXXXXXXXXXXXXXXXXXXXXXXXXXXXXXXXXXXXXXXXXXXXXXX.X.X..#..XX.#..X....X..XX..#X#.X........\n",
      "........XXXXXXXXXXXXXXXXXXXXXXXXXXXXXXXXXXX#......#.....X.....X.X.X.X.XX.XX.X..X....X..X.#.X.X.....XX...#XXXXXXXXXX...X..X........\n",
      "........X..........#X.X.....X#..X.#.X.....X........#....X#....X.X.X#X.XX.XX.X..X....X..X#..X.X.....XX#..#.....X..#X...X..X.......#\n",
      ".....#..X...........X.X....#X...X...X.....X.............XXXXXXXXXXXXXXXXXXXXXXXXXXXXXXXXXXXXXXXXXX#XX.........X...X...X..X........\n",
      "........X......#....X.X.....X...X...X.....X............#XX.#..X.X.X.X.XX.XX.X#.X....X..X...X#X...X.XX.........X...X...X..X........\n",
      "........X...........X.X..#..X...X...X.....X............XXXXXXXXXXXXXXXXXXXXXXXXXXX#.X..X...X.X...X.XX.........X...X...X..X........\n",
      "........X...........X.X.....X...X.#.X.....X............XXX....X.X.X.X.XX.XX.X#.X.X..X..X.#.X.X...X.XX.........X#..X...X..X........\n",
      "........X...........X.X#.#..X...X...X.#...X............XXX....X.X.X.X.XX.XX.X..X#X..X..X...X.X...X.XX.........X...X...X..X........\n",
      "........X...........X.X...#.X...X...X.....X...#........XXX....X.X.X.X#XX.XX.X..XXXXXXXXXXXXXXXXXXXXXXXXXXXXX#.X...X...X..X........\n",
      "........X#..........X.X.....X...X..#XXXXXXXXXXXXXXXXXXXXXXXXXXXXXXXXXXXXXXXXXXXXXXXXX..X...X.X...X#XX......X..X...X...X..X........\n",
      "..#.....X...........X.X.....X...X#........X......#.....XXX....X.X.X.X.XX.XX.X..XXX..###X...X.X...X.XX......X..X...X...X..X.......#\n",
      "........X...........X.X.....X...X.........X..#.........XXX...#X.X.X#X.XX.XX.X..XXX..XXXXXXXXXXXXXXXXXXXXXXXXXXXXXXXXXXXXXXXX#..#..\n",
      "........X.......#...X.X.....X...X.........X#...........XXX....X.X.X.X.XX.XX.X..XXX.#XXXXXXXXXXXXXXXXXXXXXXXXXXXXXXXXXXX..X.X##.#..\n",
      "......##X.......#...X.X.....X...X.........X...........#XXX....X.X.X#X.XX.XX.X..XXX....#X...X.X...X.XX......X..X...X...#..X.X......\n",
      "..#.....X...........X#X.....X...X.........X............XXX..#.X.X#X.X.XX.XX.X..XXX.....X.#.X.X...X.XX......X..X...X......X#X......\n",
      "........X...........X.X.#...X...X.......#.X..#...#.....XXX....X.X.X.X.XX.XX.X..XXX.....X...X.X...X.XX......X..X...X......X.X#.....\n",
      "........X....#.#....X.X...#.X.#.X..#......X..........##XXXXXXXXXXXXXXXXXXXXXXXXXXXXXXXXXXXXXXXXXXXXXXXXXXXXXXXXXXXXXXXXXXX.X......\n",
      "......#.X..#...XXXXXXXXXXXXXXXXXXXXXXXXXXXXXXXXXXXXXXXXXXXXXXXXXXXXXXXXXXXXXXXXXXXX#...X...X.X...X.XX......X..X...X......#.X#.....\n",
      "........X....#.X....X#X.....X...X.#...#...X......#......XX....X.X#XXXXXXXXXXXXXXXXXXXXXXXXXXXXXXXXXXX......X..X...X.#......X...#..\n",
      "........X......X....X.X...#.X...X.XXXXXXXXXXXXXXXXXXXXXXXXXXXXXXXXXXXXXXXXXXXXXXXXXXXX#X...X.X...X.X#......X..X...X........X......\n",
      "#.......X......X....X.X.....X...X.X....#..X.....#......#XX....X.X...X.XX.XX.X..XXXX..X.X...X.X...X.X.......X..X...X........X......\n",
      "........X......X#...X.X.....X...X.X.......X.............XX....X.X...X.XX.XX#XXXXXXXXXXXXXXXXXXXXXXXXXXXXXXXXXXX...X........X......\n",
      "........X......X..#.X.X.....X...X.X.......X.............XX....X.X...X.XX.XX....XXXX#.X.X...X.X...X.X.......X..#...X......#.X.....#\n",
      ".......#X....#.X..XXXXXXXX##XXXXXXXXXXXXXXXXXXXXXXXXXXXXXX....X.X...X.XX.XX....XXXX..X.X..#X.X...X.X.......X...#..X..#.....X#.....\n",
      "........X......X..X.X.X..X......X.X.......X#..........#.#X....X.X...X.XX.XX....XXXX..X.X...X.X...X.X.#.....X......X........X......\n",
      ".......#X......X..X.X.X..X.....#XXXXXXXXXXX..............X....X.X...X.XX.XX....XXXX..X.X..#X.X...X.X.......X......X........X......\n",
      "........X......X.#X.X.X..X........X.......#.........#...#XXXXXXXXXXXX.XX.XX....XXXX..X.X...X.X...X.X.......X......X..#.....X......\n",
      "........X......X..X.X.X..X........X.............#.............X.X...#.XX.XX...#XXXX..X.X..#X.X...X.X.......X......X...#....X......\n",
      "..#.....X......X.#X.X.X.#X........X....................##.....X.X....#XX.XX....XXXX..X.X#..X.X..#X.X.......X......X........X......\n",
      ".#.#....X......X..X.X.X..X........X..........#......##.....##.X.X....#XX.XX....XXXX#.X#X...X.X...X.X.....##X...#.#X..#.....X......\n",
      "..#.....X......X..X.X.X.#X......#.X..#...............#........X.X....#XXXXXXXXXXXXXXXXXXXXXXXXXXXXXX.......X......X......#.X......\n",
      ".#...#..X......X..X.X#X..X........X...........................X.X......X.XX....XXXX..X.X#..X.X...X.#....#..X......X.......#X#.....\n",
      ".#......X......X..X.X#XXXXXXXXXXXXXXXXXXXXXXXXXXXXXXXXXXXXXXXXXXXXXXXXXXXXXXXXXXXXX..X.X.#.X.X...X.....#...X......X........X...#..\n",
      "........X......X..X.X....X........X..#.....#..#...........#...X.X.....#X.XX....XX#X..X.X...X.X...X.........X......X...#....X......\n",
      "........X......X..X.X....X........X...........................X.X......X.XX....XX#X.#X.X...X.X...X##....#..X#.....X......#.X......\n",
      "........X......X..X.X.#..X.#......X.#......#..................X#XXXXXXXXXXXXXXXXXXXXXXXXXXXXXXXXXX.........X.#....X........X......\n",
      "........X......X..X.X....X........X....#......................X...#....X.XX....XX.X..X.X...X.X.#.#.........X......X........X#.....\n",
      ".#......X......X..X.X....X##......X...........................X.#......X#XX....XX.X..X.X...X.X......#..#...X......X........X...#..\n",
      "........X#.....X..X#XXXXXXXXXXXXXXXXXXXXXXXXXXXXXXXXXXXXXXXXXXXXXXXXXXXXXXX....XX.X.#X.X...X.X........#....X...#..X........X......\n",
      "........X.....#X..X...#..X..#.....X..............#........##..X........X.#X...#XXXXXXX.X...X.X#............X#.....X.....#..X#.....\n",
      "........X......X..X......X........X...........................X..#..#..X..X..#..X#X..#.X...X.X.#...........X......X........X......\n",
      "........X......X#.X....##X........X#..........#.........#....#XXXXXXXXXX..X.....X.X....X...X.X............#X#.....X.......#X......\n",
      "...#....X......X..X......X........X....................................#..X.....X.X....X...X.X.............X...#..X........X......\n",
      ".......#XXXXXXXXXXXXXXXXXX#.......X....#.....#................#..#....##..X....#X.X....X...X.X.#...........X......X........X......\n",
      "............#..X..X......##....#..X................#......................X...#.X.X....X...X.X.............X......X..#...#.X.#....\n",
      "......#.....#..X..X....##.........X.....#......#..........................X....#X.X...#XXXXXXXXXXXXXXXXXXXXX......X........X......\n",
      "...............X.#X......#........X.......................................X.....X#X........X.X#........#...#......X#.......X...#..\n",
      "...............X..X...##........#.X.................#.....#...............X....#X.X#....#..X.X...................#X........X......\n",
      "...............X.#X....#.......#..X........#.......#....................##XXXXXXXXXXXXXXXXXXXXXXXXXXXXXXXXXXXXXXXXXXXXXXXXXX..#.#.\n",
      "......#........X..X...............X........#.........................#..........X.X........X.X..........#.........X......#.#..#...\n",
      "..............#XXXXXXXXXXXXXXXXXXXXXXXXXXXXXXXXXXXXXXXXXXXXXXXXXXXXXXXXXXXXXXXXXXXXXXXXXXXXX.X....................X.......#.......\n",
      "#.#......#........X...............X.............................................X.X........#.X.........#...#......X...............\n",
      "..................X...............X........#.#........#....#............#.......X.X..........X#...................X...............\n",
      "...#.............#XXXXXXXXXXXXXXXXXXXXXXXXXXXXXXXXXXXXXXXXXXXXXXXXXXXXXXXXXXXXXXXXXXXXXXXXXXXXXXXXXXXXXXXXXXXXXXXXX....#..........\n",
      "..............#..........#........X...#...#..............#......................X.X..........X....##........#.....#.......#.......\n",
      "..................##........#.....X.......................................#.....X.X..........X......................###...........\n",
      "..........#......................#XXXXXXXXXXXXXXXXXXXXXXXXXXXXXXXXXXXXXXXXXXXXXXXXX..........X................#....#..............\n",
      ".............#........#.............#.#...............#.....#..........#.....#..X.#...#......X....#....#..........................\n",
      "........#...#.......#........................#.............#..........#........#XXXXXXXXXXXXXX.........#..........................\n",
      "..................................................................#...............#......#...#.......#............................\n",
      ".............#..........#...................##.............#.........#..................#.........................................\n",
      ".#.....#..#...#...............#.#.............#...........#.......................................................................\n",
      "..............#..#.........................#..............#..#..............#.......................#.#...........................\n",
      "............#.......................#....#................#..........#.......................#.....................#..............\n",
      "#.................#............................#...##....#.....#.....................................................#............\n",
      ".............................#........................#..................................................#....#...................\n",
      ".##...........................................#.....#....#....#.......................#...#.....#...#............#................\n",
      "........#.............#.........#..............#........................#.....................#...#...............................\n"
     ]
    }
   ],
   "source": [
    "out_data = data.copy()\n",
    "for idx, (x, y) in enumerate(path):\n",
    "    out_data[y][x] = \"X\"\n",
    "\n",
    "print(\"\\n\".join([\"\".join(l) for l in out_data]))\n"
   ]
  },
  {
   "cell_type": "code",
   "execution_count": 177,
   "id": "d50bc10a-b0a5-487d-b5b8-98091d416a78",
   "metadata": {},
   "outputs": [
    {
     "data": {
      "text/plain": [
       "4580"
      ]
     },
     "execution_count": 177,
     "metadata": {},
     "output_type": "execute_result"
    }
   ],
   "source": [
    "len(set(path))"
   ]
  },
  {
   "cell_type": "code",
   "execution_count": null,
   "id": "2b41979b-6a54-4790-ad3a-e3520bf1ac2f",
   "metadata": {},
   "outputs": [],
   "source": []
  }
 ],
 "metadata": {
  "kernelspec": {
   "display_name": "Python 3 (ipykernel)",
   "language": "python",
   "name": "python3"
  },
  "language_info": {
   "codemirror_mode": {
    "name": "ipython",
    "version": 3
   },
   "file_extension": ".py",
   "mimetype": "text/x-python",
   "name": "python",
   "nbconvert_exporter": "python",
   "pygments_lexer": "ipython3",
   "version": "3.11.10"
  }
 },
 "nbformat": 4,
 "nbformat_minor": 5
}

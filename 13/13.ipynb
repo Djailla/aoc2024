{
 "cells": [
  {
   "cell_type": "code",
   "execution_count": 71,
   "id": "25a37ec4-ad03-40f7-a946-245cd339fe2b",
   "metadata": {},
   "outputs": [
    {
     "name": "stdout",
     "output_type": "stream",
     "text": [
      "[[(94, 34), (22, 67), (8400, 5400)], [(26, 66), (67, 21), (12748, 12176)], [(17, 86), (84, 37), (7870, 6450)], [(69, 23), (27, 71), (18641, 10279)]]\n"
     ]
    }
   ],
   "source": [
    "with open(\"example.txt\") as f:\n",
    "    data = f.read().splitlines()\n",
    "    \n",
    "test_data = []\n",
    "\n",
    "new_list = []\n",
    "while data:\n",
    "    l = data.pop(0)\n",
    "    if l.startswith(\"Button A: \"):\n",
    "        x, y = l.split(\" \")[2:]\n",
    "        new_list.append((int(x[2:-1]), int(y[2:])))\n",
    "\n",
    "    elif l.startswith(\"Button B: \"):\n",
    "        x, y = l.split(\" \")[2:]\n",
    "        new_list.append((int(x[2:-1]), int(y[2:])))\n",
    "\n",
    "    elif l.startswith(\"Prize: \"):\n",
    "        x, y = l.split(\" \")[1:]\n",
    "        new_list.append((int(x[2:-1]), int(y[2:])))\n",
    "\n",
    "    else:\n",
    "        test_data.append(new_list)\n",
    "        new_list = []\n",
    "test_data.append(new_list)\n",
    "\n",
    "print(test_data)"
   ]
  },
  {
   "cell_type": "code",
   "execution_count": 72,
   "id": "45ceab62-965c-49b2-baee-b9809eaec2c8",
   "metadata": {},
   "outputs": [],
   "source": [
    "push_list = []\n",
    "\n",
    "for a, b, p in test_data:\n",
    "    min_x = min(a[0], b[0])\n",
    "    min_y = min(a[1], b[1])\n",
    "    min_px = p[0] // min_x\n",
    "    min_py = p[1] // min_y\n",
    "\n",
    "    a_x, a_y = a\n",
    "    b_x, b_y = b\n",
    "    p_x, p_y = p\n",
    "\n",
    "    push = []\n",
    "    for push_a in range(min_px):\n",
    "        for push_b in range(min_py):\n",
    "            if (((a_x * push_a) + (b_x * push_b)) == p_x and ((a_y * push_a) + (b_y * push_b)) == p_y):\n",
    "                push.append(push_a * 3 + push_b)\n",
    "\n",
    "    push_list.append(push)"
   ]
  },
  {
   "cell_type": "code",
   "execution_count": 75,
   "id": "32dd9d3c-031c-48e5-b19f-4765aed4f5a7",
   "metadata": {},
   "outputs": [
    {
     "data": {
      "text/plain": [
       "480"
      ]
     },
     "execution_count": 75,
     "metadata": {},
     "output_type": "execute_result"
    }
   ],
   "source": [
    "sum(min(l) if l else 0 for l in push_list)      "
   ]
  },
  {
   "cell_type": "code",
   "execution_count": null,
   "id": "823c1f4c-f72c-4d21-b8d9-76a08b3095ba",
   "metadata": {},
   "outputs": [],
   "source": []
  }
 ],
 "metadata": {
  "kernelspec": {
   "display_name": "Python 3 (ipykernel)",
   "language": "python",
   "name": "python3"
  },
  "language_info": {
   "codemirror_mode": {
    "name": "ipython",
    "version": 3
   },
   "file_extension": ".py",
   "mimetype": "text/x-python",
   "name": "python",
   "nbconvert_exporter": "python",
   "pygments_lexer": "ipython3",
   "version": "3.11.10"
  }
 },
 "nbformat": 4,
 "nbformat_minor": 5
}

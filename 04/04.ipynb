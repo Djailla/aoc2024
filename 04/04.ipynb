{
 "cells": [
  {
   "cell_type": "code",
   "execution_count": null,
   "id": "ef2626ec-b10a-4701-93f6-7567cd730b83",
   "metadata": {},
   "outputs": [],
   "source": [
    "with open(\"input.txt\") as f:\n",
    "    data = f.read().splitlines()"
   ]
  },
  {
   "cell_type": "code",
   "execution_count": null,
   "id": "8fbf0aa5-4fac-48c9-ab4a-ac44879f72b0",
   "metadata": {},
   "outputs": [],
   "source": [
    "DIRECTIONS = [\n",
    "    \n",
    "    [1, 0],   # DOWN\n",
    "    [-1, 0],  # UP\n",
    "    \n",
    "    [-1, 1],  # UP-RIGHT\n",
    "    [-1, -1], # UP-LEFT\n",
    "    \n",
    "    [0, 1],   # RIGHT\n",
    "    [0, -1],  # LEFT\n",
    "    \n",
    "    [1, 1],   # DOWN-RIGHT\n",
    "    [1, -1],  # DOWN-LEFT\n",
    "    \n",
    "]\n",
    "\n",
    "X_WIDTH = len(data[0])\n",
    "Y_WIDTH = len(data)"
   ]
  },
  {
   "cell_type": "code",
   "execution_count": null,
   "id": "4a0a4683-9d3d-4427-b90f-bdb652a7a7a5",
   "metadata": {},
   "outputs": [],
   "source": [
    "def is_valid(x, y):\n",
    "    return (0 <= x < X_WIDTH) and (0 <= y < Y_WIDTH)\n",
    "\n",
    "from collections import Counter\n",
    "\n",
    "def get_8_words(x, y):\n",
    "    base_letter = data[y][x]\n",
    "    words = []\n",
    "    for y_inc, x_inc in DIRECTIONS:\n",
    "        word = base_letter\n",
    "        cur_x = x\n",
    "        cur_y = y\n",
    "        for _ in range(3):\n",
    "            cur_x += x_inc\n",
    "            cur_y += y_inc\n",
    "            if is_valid(cur_x, cur_y):\n",
    "                word += data[cur_y][cur_x]\n",
    "            else:\n",
    "                break\n",
    "        words.append(word)\n",
    "    return Counter(words)[\"XMAS\"]"
   ]
  },
  {
   "cell_type": "code",
   "execution_count": null,
   "id": "9467542c-22e2-41fd-b486-dcfba612b322",
   "metadata": {},
   "outputs": [],
   "source": [
    "tot = 0\n",
    "\n",
    "for y_pos, line in enumerate(data):\n",
    "    for x_pos, letter in enumerate(line):\n",
    "        if letter == \"X\":\n",
    "            tot += get_8_words(x_pos, y_pos)"
   ]
  },
  {
   "cell_type": "code",
   "execution_count": null,
   "id": "eb7c90ec-959d-4af5-91fc-e2c1747b338c",
   "metadata": {},
   "outputs": [],
   "source": [
    "tot"
   ]
  },
  {
   "cell_type": "code",
   "execution_count": 166,
   "id": "6e6acc59-bded-48b4-9e3e-a4b4061814a5",
   "metadata": {},
   "outputs": [],
   "source": [
    "A_DIRECTIONS = [\n",
    "    [-1, 1],  # UP-RIGHT\n",
    "    [1, -1],  # DOWN-LEFT    \n",
    "]\n",
    "\n",
    "B_DIRECTIONS = [\n",
    "    [-1, -1], # UP-LEFT\n",
    "    [1, 1],   # DOWN-RIGHT\n",
    "]\n",
    "\n",
    "def get_xmas(x, y, data):\n",
    "    word_a = word_b = \"\"\n",
    "    for y_inc, x_inc in A_DIRECTIONS:\n",
    "        cur_x = x + x_inc\n",
    "        cur_y = y + y_inc\n",
    "        if is_valid(cur_x, cur_y):\n",
    "            word_a += data[cur_y][cur_x]\n",
    "        else:\n",
    "            return 0\n",
    "\n",
    "    for y_inc, x_inc in B_DIRECTIONS:\n",
    "        cur_x = x + x_inc\n",
    "        cur_y = y + y_inc\n",
    "        if is_valid(cur_x, cur_y):\n",
    "            word_b += data[cur_y][cur_x]\n",
    "        else:\n",
    "            return 0\n",
    "\n",
    "    # print(x, y, word, Counter(word)[\"M\"] == 2 and Counter(word)[\"S\"] == 2)\n",
    "    return 1 if ((set(word_a) == {\"M\", \"S\"}) and (set(word_b) == {\"M\", \"S\"})) else 0"
   ]
  },
  {
   "cell_type": "code",
   "execution_count": 167,
   "id": "27557c22-d14a-4c24-84d5-53f99ed30fd0",
   "metadata": {},
   "outputs": [],
   "source": [
    "tests_ok = [\n",
    "    [\n",
    "        \"M.M\",\n",
    "        \".A.\",\n",
    "        \"S.S\",\n",
    "    ],\n",
    "    [\n",
    "        \"S.S\",\n",
    "        \".A.\",\n",
    "        \"M.M\",\n",
    "    ],\n",
    "    [\n",
    "        \"M.S\",\n",
    "        \".A.\",\n",
    "        \"M.S\",\n",
    "    ],\n",
    "    [\n",
    "        \"S.M\",\n",
    "        \".A.\",\n",
    "        \"S.M\",\n",
    "    ],\n",
    "    [\n",
    "        \"S.M\",\n",
    "        \"SAM\",\n",
    "        \"S.M\",\n",
    "    ],\n",
    "]\n",
    "\n",
    "for test in tests_ok:\n",
    "    assert get_xmas(1, 1, test)\n",
    "    "
   ]
  },
  {
   "cell_type": "code",
   "execution_count": 171,
   "id": "8425cc68-e5bf-4328-add2-194d073331f4",
   "metadata": {},
   "outputs": [],
   "source": [
    "tests_ko = [\n",
    "    [\n",
    "        \"M.S\",\n",
    "        \".A.\",\n",
    "        \"S.S\",\n",
    "    ],\n",
    "    [\n",
    "        \"S.M\",\n",
    "        \".A.\",\n",
    "        \"M.M\",\n",
    "    ],\n",
    "    [\n",
    "        \"M.M\",\n",
    "        \".A.\",\n",
    "        \"M.M\",\n",
    "    ],\n",
    "    [\n",
    "        \"S.S\",\n",
    "        \".A.\",\n",
    "        \"S.S\",\n",
    "    ],\n",
    "    [\n",
    "        \"MSS\",\n",
    "        \"SAM\",\n",
    "        \"S.M\",\n",
    "    ],\n",
    "]\n",
    "\n",
    "for test in tests_ko:\n",
    "    assert get_xmas(1, 1, test) == 0"
   ]
  },
  {
   "cell_type": "code",
   "execution_count": 172,
   "id": "4d5b4e28-a8b1-4de7-b304-52bfefc3e069",
   "metadata": {},
   "outputs": [],
   "source": [
    "tot = 0\n",
    "\n",
    "for y_pos, line in enumerate(data):\n",
    "    for x_pos, letter in enumerate(line):\n",
    "        if letter == \"A\":\n",
    "            tot += get_xmas(x_pos, y_pos, data)"
   ]
  },
  {
   "cell_type": "code",
   "execution_count": 173,
   "id": "1131f9ca-2789-4ad6-87dc-24fb83928fb0",
   "metadata": {},
   "outputs": [
    {
     "data": {
      "text/plain": [
       "1809"
      ]
     },
     "execution_count": 173,
     "metadata": {},
     "output_type": "execute_result"
    }
   ],
   "source": [
    "tot"
   ]
  }
 ],
 "metadata": {
  "kernelspec": {
   "display_name": "Python 3 (ipykernel)",
   "language": "python",
   "name": "python3"
  },
  "language_info": {
   "codemirror_mode": {
    "name": "ipython",
    "version": 3
   },
   "file_extension": ".py",
   "mimetype": "text/x-python",
   "name": "python",
   "nbconvert_exporter": "python",
   "pygments_lexer": "ipython3",
   "version": "3.11.10"
  }
 },
 "nbformat": 4,
 "nbformat_minor": 5
}
